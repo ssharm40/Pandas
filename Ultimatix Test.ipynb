{
 "cells": [
  {
   "cell_type": "code",
   "execution_count": 3,
   "id": "5b134b1a",
   "metadata": {},
   "outputs": [],
   "source": [
    "import numpy as np\n",
    "import pandas as pd\n",
    "\n",
    "heights_A= pd.Series([176.2,158.4,167.6,156.2,161.4])\n",
    "index_ = ['s1', 's2', 's3', 's4', 's5']\n",
    "heights_A.index = index_\n",
    "\n",
    "\n",
    "\n"
   ]
  },
  {
   "cell_type": "code",
   "execution_count": 8,
   "id": "83d571a9",
   "metadata": {},
   "outputs": [
    {
     "data": {
      "text/plain": [
       "DatetimeIndex(['2017-09-11', '2017-09-13', '2017-09-15', '2017-09-17'], dtype='datetime64[ns]', freq='2D')"
      ]
     },
     "execution_count": 8,
     "metadata": {},
     "output_type": "execute_result"
    }
   ],
   "source": [
    "pd.date_range('11-Sep-2017', '17-Sep-2017', freq='2D')\n"
   ]
  },
  {
   "cell_type": "code",
   "execution_count": 6,
   "id": "3a34462b",
   "metadata": {},
   "outputs": [
    {
     "data": {
      "text/html": [
       "<div>\n",
       "<style scoped>\n",
       "    .dataframe tbody tr th:only-of-type {\n",
       "        vertical-align: middle;\n",
       "    }\n",
       "\n",
       "    .dataframe tbody tr th {\n",
       "        vertical-align: top;\n",
       "    }\n",
       "\n",
       "    .dataframe thead th {\n",
       "        text-align: right;\n",
       "    }\n",
       "</style>\n",
       "<table border=\"1\" class=\"dataframe\">\n",
       "  <thead>\n",
       "    <tr style=\"text-align: right;\">\n",
       "      <th></th>\n",
       "      <th>a</th>\n",
       "      <th>b</th>\n",
       "    </tr>\n",
       "  </thead>\n",
       "  <tbody>\n",
       "    <tr>\n",
       "      <th>0</th>\n",
       "      <td>1</td>\n",
       "      <td>2</td>\n",
       "    </tr>\n",
       "    <tr>\n",
       "      <th>1</th>\n",
       "      <td>5</td>\n",
       "      <td>10</td>\n",
       "    </tr>\n",
       "  </tbody>\n",
       "</table>\n",
       "</div>"
      ],
      "text/plain": [
       "   a   b\n",
       "0  1   2\n",
       "1  5  10"
      ]
     },
     "execution_count": 6,
     "metadata": {},
     "output_type": "execute_result"
    }
   ],
   "source": [
    "df"
   ]
  },
  {
   "cell_type": "code",
   "execution_count": 10,
   "id": "06e38186",
   "metadata": {},
   "outputs": [
    {
     "data": {
      "text/html": [
       "<div>\n",
       "<style scoped>\n",
       "    .dataframe tbody tr th:only-of-type {\n",
       "        vertical-align: middle;\n",
       "    }\n",
       "\n",
       "    .dataframe tbody tr th {\n",
       "        vertical-align: top;\n",
       "    }\n",
       "\n",
       "    .dataframe thead th {\n",
       "        text-align: right;\n",
       "    }\n",
       "</style>\n",
       "<table border=\"1\" class=\"dataframe\">\n",
       "  <thead>\n",
       "    <tr style=\"text-align: right;\">\n",
       "      <th></th>\n",
       "      <th>0</th>\n",
       "      <th>1</th>\n",
       "      <th>2</th>\n",
       "    </tr>\n",
       "  </thead>\n",
       "  <tbody>\n",
       "    <tr>\n",
       "      <th>0</th>\n",
       "      <td>0</td>\n",
       "      <td>0</td>\n",
       "      <td>0</td>\n",
       "    </tr>\n",
       "    <tr>\n",
       "      <th>1</th>\n",
       "      <td>1</td>\n",
       "      <td>1</td>\n",
       "      <td>1</td>\n",
       "    </tr>\n",
       "    <tr>\n",
       "      <th>2</th>\n",
       "      <td>2</td>\n",
       "      <td>2</td>\n",
       "      <td>4</td>\n",
       "    </tr>\n",
       "    <tr>\n",
       "      <th>3</th>\n",
       "      <td>3</td>\n",
       "      <td>3</td>\n",
       "      <td>5</td>\n",
       "    </tr>\n",
       "  </tbody>\n",
       "</table>\n",
       "</div>"
      ],
      "text/plain": [
       "   0  1  2\n",
       "0  0  0  0\n",
       "1  1  1  1\n",
       "2  2  2  4\n",
       "3  3  3  5"
      ]
     },
     "execution_count": 10,
     "metadata": {},
     "output_type": "execute_result"
    }
   ],
   "source": [
    "s1 = pd.Series([0, 1, 2, 3])\n",
    "s2 = pd.Series([0, 1, 2, 3])\n",
    "s3 = pd.Series([0, 1, 4, 5])\n",
    "d = pd.concat([s1, s2, s3], axis=1)\n",
    "d"
   ]
  },
  {
   "cell_type": "code",
   "execution_count": 11,
   "id": "0a1715c1",
   "metadata": {},
   "outputs": [
    {
     "name": "stdout",
     "output_type": "stream",
     "text": [
      "c    98.2\n",
      "a    89.2\n",
      "dtype: float64\n"
     ]
    }
   ],
   "source": [
    "s = pd.Series([89.2, 76.4, 98.2, 75.9], index=list('abcd'))\n",
    "print(s[['c', 'a']])"
   ]
  },
  {
   "cell_type": "code",
   "execution_count": 21,
   "id": "56057d3f",
   "metadata": {},
   "outputs": [],
   "source": [
    "s=pd.Series([9.2, 6, 89])"
   ]
  },
  {
   "cell_type": "code",
   "execution_count": 23,
   "id": "a712bd86",
   "metadata": {},
   "outputs": [
    {
     "data": {
      "text/plain": [
       "1"
      ]
     },
     "execution_count": 23,
     "metadata": {},
     "output_type": "execute_result"
    }
   ],
   "source": [
    "d = pd.date_range('11-Sep-2017', '17-Sep-2017', freq='2D')\n",
    "len(d[d.isin(pd.to_datetime(['12-09-2017', '15-09-2017']))])"
   ]
  },
  {
   "cell_type": "code",
   "execution_count": null,
   "id": "cccfdf6a",
   "metadata": {},
   "outputs": [],
   "source": []
  },
  {
   "cell_type": "code",
   "execution_count": null,
   "id": "b74feef7",
   "metadata": {},
   "outputs": [],
   "source": []
  },
  {
   "cell_type": "code",
   "execution_count": null,
   "id": "1fe02086",
   "metadata": {},
   "outputs": [],
   "source": []
  },
  {
   "cell_type": "code",
   "execution_count": 4,
   "id": "86cb1722",
   "metadata": {},
   "outputs": [
    {
     "name": "stdout",
     "output_type": "stream",
     "text": [
      "s2    158.4\n",
      "s3    167.6\n",
      "s4    156.2\n",
      "dtype: float64\n"
     ]
    }
   ],
   "source": [
    "print(heights_A[1:4])"
   ]
  },
  {
   "cell_type": "code",
   "execution_count": 5,
   "id": "80c1be20",
   "metadata": {},
   "outputs": [],
   "source": [
    "weights_A=pd.Series([85.1,90.2,76.8,80.4,78.9])\n",
    "index_ = ['s1', 's2', 's3', 's4', 's5']\n",
    "weights_A.index = index_\n"
   ]
  },
  {
   "cell_type": "code",
   "execution_count": 6,
   "id": "e8119de6",
   "metadata": {},
   "outputs": [],
   "source": [
    "df_A = {  \"Student_height\": heights_A,\n",
    "          \"Student_weight\": weights_A}\n",
    "df_A=pd.DataFrame(df_A)\n"
   ]
  },
  {
   "cell_type": "code",
   "execution_count": 9,
   "id": "c6438c91",
   "metadata": {},
   "outputs": [
    {
     "data": {
      "text/html": [
       "<div>\n",
       "<style scoped>\n",
       "    .dataframe tbody tr th:only-of-type {\n",
       "        vertical-align: middle;\n",
       "    }\n",
       "\n",
       "    .dataframe tbody tr th {\n",
       "        vertical-align: top;\n",
       "    }\n",
       "\n",
       "    .dataframe thead th {\n",
       "        text-align: right;\n",
       "    }\n",
       "</style>\n",
       "<table border=\"1\" class=\"dataframe\">\n",
       "  <thead>\n",
       "    <tr style=\"text-align: right;\">\n",
       "      <th></th>\n",
       "      <th>Student_height</th>\n",
       "      <th>Student_weight</th>\n",
       "    </tr>\n",
       "  </thead>\n",
       "  <tbody>\n",
       "    <tr>\n",
       "      <th>s1</th>\n",
       "      <td>176.2</td>\n",
       "      <td>85.1</td>\n",
       "    </tr>\n",
       "    <tr>\n",
       "      <th>s2</th>\n",
       "      <td>158.4</td>\n",
       "      <td>90.2</td>\n",
       "    </tr>\n",
       "    <tr>\n",
       "      <th>s3</th>\n",
       "      <td>167.6</td>\n",
       "      <td>76.8</td>\n",
       "    </tr>\n",
       "    <tr>\n",
       "      <th>s4</th>\n",
       "      <td>156.2</td>\n",
       "      <td>80.4</td>\n",
       "    </tr>\n",
       "    <tr>\n",
       "      <th>s5</th>\n",
       "      <td>161.4</td>\n",
       "      <td>78.9</td>\n",
       "    </tr>\n",
       "  </tbody>\n",
       "</table>\n",
       "</div>"
      ],
      "text/plain": [
       "    Student_height  Student_weight\n",
       "s1           176.2            85.1\n",
       "s2           158.4            90.2\n",
       "s3           167.6            76.8\n",
       "s4           156.2            80.4\n",
       "s5           161.4            78.9"
      ]
     },
     "execution_count": 9,
     "metadata": {},
     "output_type": "execute_result"
    }
   ],
   "source": [
    "df_A"
   ]
  },
  {
   "cell_type": "code",
   "execution_count": 10,
   "id": "6e4daffc",
   "metadata": {},
   "outputs": [],
   "source": [
    "df_A.to_csv('classA.csv')"
   ]
  },
  {
   "cell_type": "code",
   "execution_count": 11,
   "id": "1ae8d5c4",
   "metadata": {},
   "outputs": [
    {
     "name": "stdout",
     "output_type": "stream",
     "text": [
      "  Unnamed: 0  Student_height  Student_weight\n",
      "0         s1           176.2            85.1\n",
      "1         s2           158.4            90.2\n",
      "2         s3           167.6            76.8\n",
      "3         s4           156.2            80.4\n",
      "4         s5           161.4            78.9\n"
     ]
    }
   ],
   "source": [
    "df_A2=pd.read_csv('classA.csv')\n",
    "print(df_A2)"
   ]
  },
  {
   "cell_type": "code",
   "execution_count": 14,
   "id": "24307ec6",
   "metadata": {},
   "outputs": [],
   "source": [
    "df_A3= pd.read_csv('classA.csv',index_col=0)"
   ]
  },
  {
   "cell_type": "code",
   "execution_count": 15,
   "id": "2034f266",
   "metadata": {},
   "outputs": [
    {
     "data": {
      "text/html": [
       "<div>\n",
       "<style scoped>\n",
       "    .dataframe tbody tr th:only-of-type {\n",
       "        vertical-align: middle;\n",
       "    }\n",
       "\n",
       "    .dataframe tbody tr th {\n",
       "        vertical-align: top;\n",
       "    }\n",
       "\n",
       "    .dataframe thead th {\n",
       "        text-align: right;\n",
       "    }\n",
       "</style>\n",
       "<table border=\"1\" class=\"dataframe\">\n",
       "  <thead>\n",
       "    <tr style=\"text-align: right;\">\n",
       "      <th></th>\n",
       "      <th>Student_height</th>\n",
       "      <th>Student_weight</th>\n",
       "    </tr>\n",
       "  </thead>\n",
       "  <tbody>\n",
       "    <tr>\n",
       "      <th>s1</th>\n",
       "      <td>176.2</td>\n",
       "      <td>85.1</td>\n",
       "    </tr>\n",
       "    <tr>\n",
       "      <th>s2</th>\n",
       "      <td>158.4</td>\n",
       "      <td>90.2</td>\n",
       "    </tr>\n",
       "    <tr>\n",
       "      <th>s3</th>\n",
       "      <td>167.6</td>\n",
       "      <td>76.8</td>\n",
       "    </tr>\n",
       "    <tr>\n",
       "      <th>s4</th>\n",
       "      <td>156.2</td>\n",
       "      <td>80.4</td>\n",
       "    </tr>\n",
       "    <tr>\n",
       "      <th>s5</th>\n",
       "      <td>161.4</td>\n",
       "      <td>78.9</td>\n",
       "    </tr>\n",
       "  </tbody>\n",
       "</table>\n",
       "</div>"
      ],
      "text/plain": [
       "    Student_height  Student_weight\n",
       "s1           176.2            85.1\n",
       "s2           158.4            90.2\n",
       "s3           167.6            76.8\n",
       "s4           156.2            80.4\n",
       "s5           161.4            78.9"
      ]
     },
     "execution_count": 15,
     "metadata": {},
     "output_type": "execute_result"
    }
   ],
   "source": [
    "df_A3"
   ]
  },
  {
   "cell_type": "code",
   "execution_count": 17,
   "id": "d74ca69e",
   "metadata": {},
   "outputs": [],
   "source": [
    "my_mean = 170.0\n",
    "my_std = 25.0\n",
    "np.random.seed(100)\n",
    "heights_B = pd.Series(np.random.normal(loc = my_mean, scale = my_std, size = 5))\n",
    "heights_B.index = ['s1','s2','s3','s4','s5']\n"
   ]
  },
  {
   "cell_type": "code",
   "execution_count": 18,
   "id": "eeb3292e",
   "metadata": {},
   "outputs": [],
   "source": [
    "my_mean1 = 75.0\n",
    "my_std1 = 12.0\n",
    "np.random.seed(100)\n",
    "weights_B = pd.Series(np.random.normal(loc = my_mean1,scale = my_std1,size = 5))\n",
    "weights_B.index = ['s1','s2','s3','s4','s5']"
   ]
  },
  {
   "cell_type": "code",
   "execution_count": 20,
   "id": "52f3bcc7",
   "metadata": {},
   "outputs": [],
   "source": [
    "df_B = pd.DataFrame()"
   ]
  },
  {
   "cell_type": "code",
   "execution_count": 21,
   "id": "6b8b4b4a",
   "metadata": {},
   "outputs": [
    {
     "name": "stdout",
     "output_type": "stream",
     "text": [
      "classB.csv\n"
     ]
    }
   ],
   "source": [
    "df_B['Student_height'] = heights_B\n",
    "df_B['Student_weight'] = weights_B\n",
    "df_B.to_csv('classB.csv',index = False)\n",
    "print('classB.csv')"
   ]
  },
  {
   "cell_type": "code",
   "execution_count": 27,
   "id": "ffa136e2",
   "metadata": {},
   "outputs": [
    {
     "data": {
      "text/plain": [
       "4"
      ]
     },
     "execution_count": 27,
     "metadata": {},
     "output_type": "execute_result"
    }
   ],
   "source": [
    "len(pd.date_range('11-Sep-2017', '17-Sep-2017', freq='2D'))"
   ]
  },
  {
   "cell_type": "code",
   "execution_count": 34,
   "id": "f801c6b1",
   "metadata": {},
   "outputs": [
    {
     "data": {
      "text/html": [
       "<div>\n",
       "<style scoped>\n",
       "    .dataframe tbody tr th:only-of-type {\n",
       "        vertical-align: middle;\n",
       "    }\n",
       "\n",
       "    .dataframe tbody tr th {\n",
       "        vertical-align: top;\n",
       "    }\n",
       "\n",
       "    .dataframe thead th {\n",
       "        text-align: right;\n",
       "    }\n",
       "</style>\n",
       "<table border=\"1\" class=\"dataframe\">\n",
       "  <thead>\n",
       "    <tr style=\"text-align: right;\">\n",
       "      <th></th>\n",
       "      <th>0</th>\n",
       "      <th>1</th>\n",
       "      <th>2</th>\n",
       "      <th>3</th>\n",
       "      <th>4</th>\n",
       "      <th>5</th>\n",
       "      <th>6</th>\n",
       "      <th>7</th>\n",
       "      <th>8</th>\n",
       "      <th>9</th>\n",
       "    </tr>\n",
       "  </thead>\n",
       "  <tbody>\n",
       "    <tr>\n",
       "      <th>0</th>\n",
       "      <td>0.976500</td>\n",
       "      <td>0.166694</td>\n",
       "      <td>0.023178</td>\n",
       "      <td>0.160745</td>\n",
       "      <td>0.923497</td>\n",
       "      <td>0.953550</td>\n",
       "      <td>0.210978</td>\n",
       "      <td>0.360525</td>\n",
       "      <td>0.549375</td>\n",
       "      <td>0.271831</td>\n",
       "    </tr>\n",
       "    <tr>\n",
       "      <th>1</th>\n",
       "      <td>0.460602</td>\n",
       "      <td>0.696162</td>\n",
       "      <td>0.500356</td>\n",
       "      <td>0.716071</td>\n",
       "      <td>0.525956</td>\n",
       "      <td>0.001399</td>\n",
       "      <td>0.394700</td>\n",
       "      <td>0.492167</td>\n",
       "      <td>0.402880</td>\n",
       "      <td>0.354298</td>\n",
       "    </tr>\n",
       "    <tr>\n",
       "      <th>2</th>\n",
       "      <td>0.500614</td>\n",
       "      <td>0.445177</td>\n",
       "      <td>0.090433</td>\n",
       "      <td>0.273563</td>\n",
       "      <td>0.943477</td>\n",
       "      <td>0.026545</td>\n",
       "      <td>0.039999</td>\n",
       "      <td>0.283140</td>\n",
       "      <td>0.582344</td>\n",
       "      <td>0.990893</td>\n",
       "    </tr>\n",
       "    <tr>\n",
       "      <th>3</th>\n",
       "      <td>0.992642</td>\n",
       "      <td>0.993117</td>\n",
       "      <td>0.110048</td>\n",
       "      <td>0.664481</td>\n",
       "      <td>0.523987</td>\n",
       "      <td>0.173150</td>\n",
       "      <td>0.942960</td>\n",
       "      <td>0.241860</td>\n",
       "      <td>0.998932</td>\n",
       "      <td>0.582694</td>\n",
       "    </tr>\n",
       "    <tr>\n",
       "      <th>4</th>\n",
       "      <td>0.183279</td>\n",
       "      <td>0.386845</td>\n",
       "      <td>0.189674</td>\n",
       "      <td>0.410771</td>\n",
       "      <td>0.594680</td>\n",
       "      <td>0.716586</td>\n",
       "      <td>0.486891</td>\n",
       "      <td>0.309590</td>\n",
       "      <td>0.577441</td>\n",
       "      <td>0.441708</td>\n",
       "    </tr>\n",
       "    <tr>\n",
       "      <th>5</th>\n",
       "      <td>0.359678</td>\n",
       "      <td>0.321332</td>\n",
       "      <td>0.208207</td>\n",
       "      <td>0.451259</td>\n",
       "      <td>0.491843</td>\n",
       "      <td>0.899076</td>\n",
       "      <td>0.729360</td>\n",
       "      <td>0.770090</td>\n",
       "      <td>0.375439</td>\n",
       "      <td>0.343740</td>\n",
       "    </tr>\n",
       "    <tr>\n",
       "      <th>6</th>\n",
       "      <td>0.655035</td>\n",
       "      <td>0.711038</td>\n",
       "      <td>0.113538</td>\n",
       "      <td>0.133029</td>\n",
       "      <td>0.456039</td>\n",
       "      <td>0.159736</td>\n",
       "      <td>0.961642</td>\n",
       "      <td>0.837616</td>\n",
       "      <td>0.520161</td>\n",
       "      <td>0.218272</td>\n",
       "    </tr>\n",
       "    <tr>\n",
       "      <th>7</th>\n",
       "      <td>0.134919</td>\n",
       "      <td>0.979070</td>\n",
       "      <td>0.707043</td>\n",
       "      <td>0.859976</td>\n",
       "      <td>0.387173</td>\n",
       "      <td>0.250834</td>\n",
       "      <td>0.299438</td>\n",
       "      <td>0.856896</td>\n",
       "      <td>0.472984</td>\n",
       "      <td>0.663277</td>\n",
       "    </tr>\n",
       "    <tr>\n",
       "      <th>8</th>\n",
       "      <td>0.805729</td>\n",
       "      <td>0.252981</td>\n",
       "      <td>0.079573</td>\n",
       "      <td>0.732761</td>\n",
       "      <td>0.961397</td>\n",
       "      <td>0.953805</td>\n",
       "      <td>0.490499</td>\n",
       "      <td>0.632192</td>\n",
       "      <td>0.732995</td>\n",
       "      <td>0.902410</td>\n",
       "    </tr>\n",
       "    <tr>\n",
       "      <th>9</th>\n",
       "      <td>0.162247</td>\n",
       "      <td>0.405881</td>\n",
       "      <td>0.417091</td>\n",
       "      <td>0.695591</td>\n",
       "      <td>0.424847</td>\n",
       "      <td>0.858114</td>\n",
       "      <td>0.846932</td>\n",
       "      <td>0.070199</td>\n",
       "      <td>0.301752</td>\n",
       "      <td>0.979624</td>\n",
       "    </tr>\n",
       "  </tbody>\n",
       "</table>\n",
       "</div>"
      ],
      "text/plain": [
       "          0         1         2         3         4         5         6  \\\n",
       "0  0.976500  0.166694  0.023178  0.160745  0.923497  0.953550  0.210978   \n",
       "1  0.460602  0.696162  0.500356  0.716071  0.525956  0.001399  0.394700   \n",
       "2  0.500614  0.445177  0.090433  0.273563  0.943477  0.026545  0.039999   \n",
       "3  0.992642  0.993117  0.110048  0.664481  0.523987  0.173150  0.942960   \n",
       "4  0.183279  0.386845  0.189674  0.410771  0.594680  0.716586  0.486891   \n",
       "5  0.359678  0.321332  0.208207  0.451259  0.491843  0.899076  0.729360   \n",
       "6  0.655035  0.711038  0.113538  0.133029  0.456039  0.159736  0.961642   \n",
       "7  0.134919  0.979070  0.707043  0.859976  0.387173  0.250834  0.299438   \n",
       "8  0.805729  0.252981  0.079573  0.732761  0.961397  0.953805  0.490499   \n",
       "9  0.162247  0.405881  0.417091  0.695591  0.424847  0.858114  0.846932   \n",
       "\n",
       "          7         8         9  \n",
       "0  0.360525  0.549375  0.271831  \n",
       "1  0.492167  0.402880  0.354298  \n",
       "2  0.283140  0.582344  0.990893  \n",
       "3  0.241860  0.998932  0.582694  \n",
       "4  0.309590  0.577441  0.441708  \n",
       "5  0.770090  0.375439  0.343740  \n",
       "6  0.837616  0.520161  0.218272  \n",
       "7  0.856896  0.472984  0.663277  \n",
       "8  0.632192  0.732995  0.902410  \n",
       "9  0.070199  0.301752  0.979624  "
      ]
     },
     "execution_count": 34,
     "metadata": {},
     "output_type": "execute_result"
    }
   ],
   "source": [
    "df=pd.DataFrame(np.random.random((10,10)))\n",
    "df"
   ]
  },
  {
   "cell_type": "code",
   "execution_count": 35,
   "id": "083ebf28",
   "metadata": {},
   "outputs": [],
   "source": [
    "index = [ 'r1', 'r2', 'r3', 'row4', 'row5', 'row6', 'r7', 'r8', 'r9', 'row10']"
   ]
  },
  {
   "cell_type": "code",
   "execution_count": 36,
   "id": "cb602f98",
   "metadata": {},
   "outputs": [
    {
     "ename": "AttributeError",
     "evalue": "Can only use .str accessor with string values!",
     "output_type": "error",
     "traceback": [
      "\u001b[1;31m---------------------------------------------------------------------------\u001b[0m",
      "\u001b[1;31mAttributeError\u001b[0m                            Traceback (most recent call last)",
      "\u001b[1;32m<ipython-input-36-3dc6c372cc5f>\u001b[0m in \u001b[0;36m<module>\u001b[1;34m\u001b[0m\n\u001b[1;32m----> 1\u001b[1;33m \u001b[0mg\u001b[0m \u001b[1;33m=\u001b[0m \u001b[0mdf\u001b[0m\u001b[1;33m.\u001b[0m\u001b[0mgroupby\u001b[0m\u001b[1;33m(\u001b[0m\u001b[0mdf\u001b[0m\u001b[1;33m.\u001b[0m\u001b[0mindex\u001b[0m\u001b[1;33m.\u001b[0m\u001b[0mstr\u001b[0m\u001b[1;33m.\u001b[0m\u001b[0mlen\u001b[0m\u001b[1;33m(\u001b[0m\u001b[1;33m)\u001b[0m\u001b[1;33m)\u001b[0m\u001b[1;33m\u001b[0m\u001b[1;33m\u001b[0m\u001b[0m\n\u001b[0m",
      "\u001b[1;32mc:\\users\\sairam\\appdata\\local\\programs\\python\\python37\\lib\\site-packages\\pandas\\core\\accessor.py\u001b[0m in \u001b[0;36m__get__\u001b[1;34m(self, obj, cls)\u001b[0m\n\u001b[0;32m    178\u001b[0m             \u001b[1;31m# we're accessing the attribute of the class, i.e., Dataset.geo\u001b[0m\u001b[1;33m\u001b[0m\u001b[1;33m\u001b[0m\u001b[1;33m\u001b[0m\u001b[0m\n\u001b[0;32m    179\u001b[0m             \u001b[1;32mreturn\u001b[0m \u001b[0mself\u001b[0m\u001b[1;33m.\u001b[0m\u001b[0m_accessor\u001b[0m\u001b[1;33m\u001b[0m\u001b[1;33m\u001b[0m\u001b[0m\n\u001b[1;32m--> 180\u001b[1;33m         \u001b[0maccessor_obj\u001b[0m \u001b[1;33m=\u001b[0m \u001b[0mself\u001b[0m\u001b[1;33m.\u001b[0m\u001b[0m_accessor\u001b[0m\u001b[1;33m(\u001b[0m\u001b[0mobj\u001b[0m\u001b[1;33m)\u001b[0m\u001b[1;33m\u001b[0m\u001b[1;33m\u001b[0m\u001b[0m\n\u001b[0m\u001b[0;32m    181\u001b[0m         \u001b[1;31m# Replace the property with the accessor object. Inspired by:\u001b[0m\u001b[1;33m\u001b[0m\u001b[1;33m\u001b[0m\u001b[1;33m\u001b[0m\u001b[0m\n\u001b[0;32m    182\u001b[0m         \u001b[1;31m# https://www.pydanny.com/cached-property.html\u001b[0m\u001b[1;33m\u001b[0m\u001b[1;33m\u001b[0m\u001b[1;33m\u001b[0m\u001b[0m\n",
      "\u001b[1;32mc:\\users\\sairam\\appdata\\local\\programs\\python\\python37\\lib\\site-packages\\pandas\\core\\strings\\accessor.py\u001b[0m in \u001b[0;36m__init__\u001b[1;34m(self, data)\u001b[0m\n\u001b[0;32m    152\u001b[0m         \u001b[1;32mfrom\u001b[0m \u001b[0mpandas\u001b[0m\u001b[1;33m.\u001b[0m\u001b[0mcore\u001b[0m\u001b[1;33m.\u001b[0m\u001b[0marrays\u001b[0m\u001b[1;33m.\u001b[0m\u001b[0mstring_\u001b[0m \u001b[1;32mimport\u001b[0m \u001b[0mStringDtype\u001b[0m\u001b[1;33m\u001b[0m\u001b[1;33m\u001b[0m\u001b[0m\n\u001b[0;32m    153\u001b[0m \u001b[1;33m\u001b[0m\u001b[0m\n\u001b[1;32m--> 154\u001b[1;33m         \u001b[0mself\u001b[0m\u001b[1;33m.\u001b[0m\u001b[0m_inferred_dtype\u001b[0m \u001b[1;33m=\u001b[0m \u001b[0mself\u001b[0m\u001b[1;33m.\u001b[0m\u001b[0m_validate\u001b[0m\u001b[1;33m(\u001b[0m\u001b[0mdata\u001b[0m\u001b[1;33m)\u001b[0m\u001b[1;33m\u001b[0m\u001b[1;33m\u001b[0m\u001b[0m\n\u001b[0m\u001b[0;32m    155\u001b[0m         \u001b[0mself\u001b[0m\u001b[1;33m.\u001b[0m\u001b[0m_is_categorical\u001b[0m \u001b[1;33m=\u001b[0m \u001b[0mis_categorical_dtype\u001b[0m\u001b[1;33m(\u001b[0m\u001b[0mdata\u001b[0m\u001b[1;33m.\u001b[0m\u001b[0mdtype\u001b[0m\u001b[1;33m)\u001b[0m\u001b[1;33m\u001b[0m\u001b[1;33m\u001b[0m\u001b[0m\n\u001b[0;32m    156\u001b[0m         \u001b[0mself\u001b[0m\u001b[1;33m.\u001b[0m\u001b[0m_is_string\u001b[0m \u001b[1;33m=\u001b[0m \u001b[0misinstance\u001b[0m\u001b[1;33m(\u001b[0m\u001b[0mdata\u001b[0m\u001b[1;33m.\u001b[0m\u001b[0mdtype\u001b[0m\u001b[1;33m,\u001b[0m \u001b[0mStringDtype\u001b[0m\u001b[1;33m)\u001b[0m\u001b[1;33m\u001b[0m\u001b[1;33m\u001b[0m\u001b[0m\n",
      "\u001b[1;32mc:\\users\\sairam\\appdata\\local\\programs\\python\\python37\\lib\\site-packages\\pandas\\core\\strings\\accessor.py\u001b[0m in \u001b[0;36m_validate\u001b[1;34m(data)\u001b[0m\n\u001b[0;32m    215\u001b[0m \u001b[1;33m\u001b[0m\u001b[0m\n\u001b[0;32m    216\u001b[0m         \u001b[1;32mif\u001b[0m \u001b[0minferred_dtype\u001b[0m \u001b[1;32mnot\u001b[0m \u001b[1;32min\u001b[0m \u001b[0mallowed_types\u001b[0m\u001b[1;33m:\u001b[0m\u001b[1;33m\u001b[0m\u001b[1;33m\u001b[0m\u001b[0m\n\u001b[1;32m--> 217\u001b[1;33m             \u001b[1;32mraise\u001b[0m \u001b[0mAttributeError\u001b[0m\u001b[1;33m(\u001b[0m\u001b[1;34m\"Can only use .str accessor with string values!\"\u001b[0m\u001b[1;33m)\u001b[0m\u001b[1;33m\u001b[0m\u001b[1;33m\u001b[0m\u001b[0m\n\u001b[0m\u001b[0;32m    218\u001b[0m         \u001b[1;32mreturn\u001b[0m \u001b[0minferred_dtype\u001b[0m\u001b[1;33m\u001b[0m\u001b[1;33m\u001b[0m\u001b[0m\n\u001b[0;32m    219\u001b[0m \u001b[1;33m\u001b[0m\u001b[0m\n",
      "\u001b[1;31mAttributeError\u001b[0m: Can only use .str accessor with string values!"
     ]
    }
   ],
   "source": [
    "g = df.groupby(df.index.str.len())"
   ]
  },
  {
   "cell_type": "code",
   "execution_count": null,
   "id": "985fb3ee",
   "metadata": {},
   "outputs": [],
   "source": []
  },
  {
   "cell_type": "code",
   "execution_count": 11,
   "id": "2ea48d2d",
   "metadata": {},
   "outputs": [
    {
     "name": "stdout",
     "output_type": "stream",
     "text": [
      "<class 'pandas.core.series.Series'>\n"
     ]
    }
   ],
   "source": [
    "height=df['Student_height']\n",
    "print(type(height))"
   ]
  },
  {
   "cell_type": "code",
   "execution_count": 14,
   "id": "79148fcb",
   "metadata": {},
   "outputs": [],
   "source": [
    "df_s1s2=df.loc[['s1','s2'], :]\n",
    "df_s1s2"
   ]
  },
  {
   "cell_type": "code",
   "execution_count": 15,
   "id": "08f5641a",
   "metadata": {},
   "outputs": [
    {
     "data": {
      "text/html": [
       "<div>\n",
       "<style scoped>\n",
       "    .dataframe tbody tr th:only-of-type {\n",
       "        vertical-align: middle;\n",
       "    }\n",
       "\n",
       "    .dataframe tbody tr th {\n",
       "        vertical-align: top;\n",
       "    }\n",
       "\n",
       "    .dataframe thead th {\n",
       "        text-align: right;\n",
       "    }\n",
       "</style>\n",
       "<table border=\"1\" class=\"dataframe\">\n",
       "  <thead>\n",
       "    <tr style=\"text-align: right;\">\n",
       "      <th></th>\n",
       "      <th>Student_height</th>\n",
       "      <th>Student_weight</th>\n",
       "    </tr>\n",
       "  </thead>\n",
       "  <tbody>\n",
       "    <tr>\n",
       "      <th>s1</th>\n",
       "      <td>176.2</td>\n",
       "      <td>85.1</td>\n",
       "    </tr>\n",
       "    <tr>\n",
       "      <th>s2</th>\n",
       "      <td>158.4</td>\n",
       "      <td>90.2</td>\n",
       "    </tr>\n",
       "  </tbody>\n",
       "</table>\n",
       "</div>"
      ],
      "text/plain": [
       "    Student_height  Student_weight\n",
       "s1           176.2            85.1\n",
       "s2           158.4            90.2"
      ]
     },
     "execution_count": 15,
     "metadata": {},
     "output_type": "execute_result"
    }
   ],
   "source": []
  },
  {
   "cell_type": "code",
   "execution_count": 16,
   "id": "036e5b3b",
   "metadata": {},
   "outputs": [
    {
     "data": {
      "text/html": [
       "<div>\n",
       "<style scoped>\n",
       "    .dataframe tbody tr th:only-of-type {\n",
       "        vertical-align: middle;\n",
       "    }\n",
       "\n",
       "    .dataframe tbody tr th {\n",
       "        vertical-align: top;\n",
       "    }\n",
       "\n",
       "    .dataframe thead th {\n",
       "        text-align: right;\n",
       "    }\n",
       "</style>\n",
       "<table border=\"1\" class=\"dataframe\">\n",
       "  <thead>\n",
       "    <tr style=\"text-align: right;\">\n",
       "      <th></th>\n",
       "      <th>Student_height</th>\n",
       "      <th>Student_weight</th>\n",
       "    </tr>\n",
       "  </thead>\n",
       "  <tbody>\n",
       "    <tr>\n",
       "      <th>s1</th>\n",
       "      <td>176.2</td>\n",
       "      <td>85.1</td>\n",
       "    </tr>\n",
       "    <tr>\n",
       "      <th>s2</th>\n",
       "      <td>158.4</td>\n",
       "      <td>90.2</td>\n",
       "    </tr>\n",
       "    <tr>\n",
       "      <th>s3</th>\n",
       "      <td>167.6</td>\n",
       "      <td>76.8</td>\n",
       "    </tr>\n",
       "    <tr>\n",
       "      <th>s4</th>\n",
       "      <td>156.2</td>\n",
       "      <td>80.4</td>\n",
       "    </tr>\n",
       "    <tr>\n",
       "      <th>s5</th>\n",
       "      <td>161.4</td>\n",
       "      <td>78.9</td>\n",
       "    </tr>\n",
       "  </tbody>\n",
       "</table>\n",
       "</div>"
      ],
      "text/plain": [
       "    Student_height  Student_weight\n",
       "s1           176.2            85.1\n",
       "s2           158.4            90.2\n",
       "s3           167.6            76.8\n",
       "s4           156.2            80.4\n",
       "s5           161.4            78.9"
      ]
     },
     "execution_count": 16,
     "metadata": {},
     "output_type": "execute_result"
    }
   ],
   "source": [
    "df"
   ]
  },
  {
   "cell_type": "code",
   "execution_count": 18,
   "id": "8b56e952",
   "metadata": {},
   "outputs": [],
   "source": [
    "df_s2s5s1=df.loc[['s1','s5','s2'], :]"
   ]
  },
  {
   "cell_type": "code",
   "execution_count": 19,
   "id": "3d4f5e5e",
   "metadata": {},
   "outputs": [
    {
     "data": {
      "text/html": [
       "<div>\n",
       "<style scoped>\n",
       "    .dataframe tbody tr th:only-of-type {\n",
       "        vertical-align: middle;\n",
       "    }\n",
       "\n",
       "    .dataframe tbody tr th {\n",
       "        vertical-align: top;\n",
       "    }\n",
       "\n",
       "    .dataframe thead th {\n",
       "        text-align: right;\n",
       "    }\n",
       "</style>\n",
       "<table border=\"1\" class=\"dataframe\">\n",
       "  <thead>\n",
       "    <tr style=\"text-align: right;\">\n",
       "      <th></th>\n",
       "      <th>Student_height</th>\n",
       "      <th>Student_weight</th>\n",
       "    </tr>\n",
       "  </thead>\n",
       "  <tbody>\n",
       "    <tr>\n",
       "      <th>s1</th>\n",
       "      <td>176.2</td>\n",
       "      <td>85.1</td>\n",
       "    </tr>\n",
       "    <tr>\n",
       "      <th>s5</th>\n",
       "      <td>161.4</td>\n",
       "      <td>78.9</td>\n",
       "    </tr>\n",
       "    <tr>\n",
       "      <th>s2</th>\n",
       "      <td>158.4</td>\n",
       "      <td>90.2</td>\n",
       "    </tr>\n",
       "  </tbody>\n",
       "</table>\n",
       "</div>"
      ],
      "text/plain": [
       "    Student_height  Student_weight\n",
       "s1           176.2            85.1\n",
       "s5           161.4            78.9\n",
       "s2           158.4            90.2"
      ]
     },
     "execution_count": 19,
     "metadata": {},
     "output_type": "execute_result"
    }
   ],
   "source": [
    "print(df_s2s5s1)"
   ]
  },
  {
   "cell_type": "code",
   "execution_count": 20,
   "id": "343d748e",
   "metadata": {},
   "outputs": [
    {
     "data": {
      "text/html": [
       "<div>\n",
       "<style scoped>\n",
       "    .dataframe tbody tr th:only-of-type {\n",
       "        vertical-align: middle;\n",
       "    }\n",
       "\n",
       "    .dataframe tbody tr th {\n",
       "        vertical-align: top;\n",
       "    }\n",
       "\n",
       "    .dataframe thead th {\n",
       "        text-align: right;\n",
       "    }\n",
       "</style>\n",
       "<table border=\"1\" class=\"dataframe\">\n",
       "  <thead>\n",
       "    <tr style=\"text-align: right;\">\n",
       "      <th></th>\n",
       "      <th>Student_height</th>\n",
       "      <th>Student_weight</th>\n",
       "    </tr>\n",
       "  </thead>\n",
       "  <tbody>\n",
       "    <tr>\n",
       "      <th>s1</th>\n",
       "      <td>176.2</td>\n",
       "      <td>85.1</td>\n",
       "    </tr>\n",
       "    <tr>\n",
       "      <th>s2</th>\n",
       "      <td>158.4</td>\n",
       "      <td>90.2</td>\n",
       "    </tr>\n",
       "    <tr>\n",
       "      <th>s3</th>\n",
       "      <td>167.6</td>\n",
       "      <td>76.8</td>\n",
       "    </tr>\n",
       "    <tr>\n",
       "      <th>s4</th>\n",
       "      <td>156.2</td>\n",
       "      <td>80.4</td>\n",
       "    </tr>\n",
       "    <tr>\n",
       "      <th>s5</th>\n",
       "      <td>161.4</td>\n",
       "      <td>78.9</td>\n",
       "    </tr>\n",
       "  </tbody>\n",
       "</table>\n",
       "</div>"
      ],
      "text/plain": [
       "    Student_height  Student_weight\n",
       "s1           176.2            85.1\n",
       "s2           158.4            90.2\n",
       "s3           167.6            76.8\n",
       "s4           156.2            80.4\n",
       "s5           161.4            78.9"
      ]
     },
     "execution_count": 20,
     "metadata": {},
     "output_type": "execute_result"
    }
   ],
   "source": [
    "df"
   ]
  },
  {
   "cell_type": "code",
   "execution_count": 22,
   "id": "8ea15235",
   "metadata": {},
   "outputs": [
    {
     "name": "stdout",
     "output_type": "stream",
     "text": [
      "    Student_height  Student_weight\n",
      "s1           176.2            85.1\n",
      "s4           156.2            80.4\n"
     ]
    }
   ],
   "source": [
    "df_s1s4=df.loc[['s1','s4'],:]\n",
    "print(df_s1s4)"
   ]
  },
  {
   "cell_type": "code",
   "execution_count": null,
   "id": "47159017",
   "metadata": {},
   "outputs": [],
   "source": []
  },
  {
   "cell_type": "code",
   "execution_count": 29,
   "id": "45fdb72c",
   "metadata": {},
   "outputs": [
    {
     "name": "stdout",
     "output_type": "stream",
     "text": [
      "{'Student_height': s1    176.2\n",
      "s2    158.4\n",
      "s3    167.6\n",
      "s4    156.2\n",
      "s5    161.4\n",
      "dtype: float64, 'Student_weight': s1    85.1\n",
      "s2    90.2\n",
      "s3    76.8\n",
      "s4    80.4\n",
      "s5    78.9\n",
      "dtype: float64}\n"
     ]
    }
   ],
   "source": [
    "print(df_A)"
   ]
  },
  {
   "cell_type": "code",
   "execution_count": null,
   "id": "c2734f76",
   "metadata": {},
   "outputs": [],
   "source": []
  },
  {
   "cell_type": "code",
   "execution_count": 31,
   "id": "4d541a8d",
   "metadata": {},
   "outputs": [
    {
     "name": "stdout",
     "output_type": "stream",
     "text": [
      "    Student_height  Student_weight\n",
      "s1           176.2            85.1\n",
      "s4           156.2            80.4\n"
     ]
    }
   ],
   "source": [
    "df_s1s4 = df[df.index.isin(['s1','s4'])]\n",
    "print(df_s1s4)"
   ]
  },
  {
   "cell_type": "code",
   "execution_count": null,
   "id": "72d73541",
   "metadata": {},
   "outputs": [],
   "source": []
  },
  {
   "cell_type": "code",
   "execution_count": null,
   "id": "3d2881f6",
   "metadata": {},
   "outputs": [],
   "source": []
  },
  {
   "cell_type": "code",
   "execution_count": 36,
   "id": "1875389c",
   "metadata": {},
   "outputs": [
    {
     "data": {
      "text/plain": [
       "['A', 'A', 'A', 'A', 'A', 'B', 'B', 'B', 'B', 'B']"
      ]
     },
     "execution_count": 36,
     "metadata": {},
     "output_type": "execute_result"
    }
   ],
   "source": [
    "a= list('AAAAABBBBB')\n",
    "a"
   ]
  },
  {
   "cell_type": "code",
   "execution_count": 37,
   "id": "e13842b7",
   "metadata": {},
   "outputs": [],
   "source": [
    "import pandas as pd\n",
    "import numpy as np\n",
    "df = pd.DataFrame({'temp':pd.Series(28 + 10*np.random.randn(10)), \n",
    "                'rain':pd.Series(100 + 50*np.random.randn(10)),\n",
    "             'location':list('AAAAABBBBB')})"
   ]
  },
  {
   "cell_type": "code",
   "execution_count": 40,
   "id": "95124270",
   "metadata": {},
   "outputs": [
    {
     "name": "stdout",
     "output_type": "stream",
     "text": [
      "            temp        rain\n",
      "count  10.000000   10.000000\n",
      "mean   25.602686   86.649078\n",
      "std     8.158816   36.280376\n",
      "min    12.804371   28.588341\n",
      "25%    19.066882   67.977494\n",
      "50%    27.060782   86.654653\n",
      "75%    32.651093  102.184688\n",
      "max    35.185066  158.291623\n"
     ]
    }
   ],
   "source": [
    "print(df.describe())"
   ]
  },
  {
   "cell_type": "code",
   "execution_count": 41,
   "id": "0c87652d",
   "metadata": {},
   "outputs": [
    {
     "name": "stdout",
     "output_type": "stream",
     "text": [
      "       location\n",
      "count        10\n",
      "unique        2\n",
      "top           B\n",
      "freq          5\n"
     ]
    }
   ],
   "source": [
    "print(df.describe(include=['object']))"
   ]
  }
 ],
 "metadata": {
  "kernelspec": {
   "display_name": "Python 3",
   "language": "python",
   "name": "python3"
  },
  "language_info": {
   "codemirror_mode": {
    "name": "ipython",
    "version": 3
   },
   "file_extension": ".py",
   "mimetype": "text/x-python",
   "name": "python",
   "nbconvert_exporter": "python",
   "pygments_lexer": "ipython3",
   "version": "3.7.3"
  }
 },
 "nbformat": 4,
 "nbformat_minor": 5
}
