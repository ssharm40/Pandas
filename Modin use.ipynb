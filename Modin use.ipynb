{
 "cells": [
  {
   "cell_type": "code",
   "execution_count": 1,
   "id": "30b49fe6",
   "metadata": {},
   "outputs": [],
   "source": [
    "import pandas as pd"
   ]
  },
  {
   "cell_type": "code",
   "execution_count": 2,
   "id": "ee0e3937",
   "metadata": {},
   "outputs": [
    {
     "name": "stdout",
     "output_type": "stream",
     "text": [
      "Wall time: 990 ms\n"
     ]
    }
   ],
   "source": [
    "%%time\n",
    "df=pd.read_csv(\"train.csv\")"
   ]
  },
  {
   "cell_type": "code",
   "execution_count": 5,
   "id": "5b9e7dd6",
   "metadata": {},
   "outputs": [
    {
     "name": "stdout",
     "output_type": "stream",
     "text": [
      "Collecting modin[ray]"
     ]
    },
    {
     "name": "stderr",
     "output_type": "stream",
     "text": [
      "WARNING: You are using pip version 21.3.1; however, version 22.0.4 is available.\n",
      "You should consider upgrading via the 'c:\\users\\sairam\\appdata\\local\\programs\\python\\python37\\python.exe -m pip install --upgrade pip' command.\n"
     ]
    },
    {
     "name": "stdout",
     "output_type": "stream",
     "text": [
      "\n",
      "  Using cached modin-0.12.1-py3-none-any.whl (761 kB)\n",
      "Collecting fsspec\n",
      "  Using cached fsspec-2022.2.0-py3-none-any.whl (134 kB)\n",
      "Requirement already satisfied: numpy>=1.16.5 in c:\\users\\sairam\\appdata\\local\\programs\\python\\python37\\lib\\site-packages (from modin[ray]) (1.19.5)\n",
      "Requirement already satisfied: pandas==1.3.5 in c:\\users\\sairam\\appdata\\local\\programs\\python\\python37\\lib\\site-packages (from modin[ray]) (1.3.5)\n",
      "Requirement already satisfied: packaging in c:\\users\\sairam\\appdata\\local\\programs\\python\\python37\\lib\\site-packages (from modin[ray]) (20.9)\n",
      "Collecting pyarrow>=1.0\n",
      "  Using cached pyarrow-7.0.0-cp37-cp37m-win_amd64.whl (16.0 MB)\n",
      "Requirement already satisfied: ray[default]>=1.4.0 in c:\\users\\sairam\\appdata\\local\\programs\\python\\python37\\lib\\site-packages (from modin[ray]) (1.11.0)\n",
      "Requirement already satisfied: python-dateutil>=2.7.3 in c:\\users\\sairam\\appdata\\local\\programs\\python\\python37\\lib\\site-packages (from pandas==1.3.5->modin[ray]) (2.8.1)\n",
      "Requirement already satisfied: pytz>=2017.3 in c:\\users\\sairam\\appdata\\local\\programs\\python\\python37\\lib\\site-packages (from pandas==1.3.5->modin[ray]) (2021.1)\n",
      "Requirement already satisfied: jsonschema in c:\\users\\sairam\\appdata\\local\\programs\\python\\python37\\lib\\site-packages (from ray[default]>=1.4.0->modin[ray]) (3.2.0)\n",
      "Requirement already satisfied: attrs in c:\\users\\sairam\\appdata\\local\\programs\\python\\python37\\lib\\site-packages (from ray[default]>=1.4.0->modin[ray]) (21.2.0)\n",
      "Requirement already satisfied: protobuf>=3.15.3 in c:\\users\\sairam\\appdata\\local\\programs\\python\\python37\\lib\\site-packages (from ray[default]>=1.4.0->modin[ray]) (3.17.1)\n",
      "Requirement already satisfied: msgpack<2.0.0,>=1.0.0 in c:\\users\\sairam\\appdata\\local\\programs\\python\\python37\\lib\\site-packages (from ray[default]>=1.4.0->modin[ray]) (1.0.3)\n",
      "Requirement already satisfied: grpcio<=1.43.0,>=1.28.1 in c:\\users\\sairam\\appdata\\local\\programs\\python\\python37\\lib\\site-packages (from ray[default]>=1.4.0->modin[ray]) (1.34.1)\n",
      "Requirement already satisfied: redis>=3.5.0 in c:\\users\\sairam\\appdata\\local\\programs\\python\\python37\\lib\\site-packages (from ray[default]>=1.4.0->modin[ray]) (4.1.4)\n",
      "Requirement already satisfied: filelock in c:\\users\\sairam\\appdata\\local\\programs\\python\\python37\\lib\\site-packages (from ray[default]>=1.4.0->modin[ray]) (3.4.0)\n",
      "Requirement already satisfied: pyyaml in c:\\users\\sairam\\appdata\\local\\programs\\python\\python37\\lib\\site-packages (from ray[default]>=1.4.0->modin[ray]) (6.0)\n",
      "Requirement already satisfied: click>=7.0 in c:\\users\\sairam\\appdata\\local\\programs\\python\\python37\\lib\\site-packages (from ray[default]>=1.4.0->modin[ray]) (7.1.2)\n",
      "Requirement already satisfied: prometheus-client>=0.7.1 in c:\\users\\sairam\\appdata\\local\\programs\\python\\python37\\lib\\site-packages (from ray[default]>=1.4.0->modin[ray]) (0.10.1)\n",
      "Collecting colorful\n",
      "  Using cached colorful-0.5.4-py2.py3-none-any.whl (201 kB)\n",
      "Requirement already satisfied: aiohttp>=3.7 in c:\\users\\sairam\\appdata\\local\\programs\\python\\python37\\lib\\site-packages (from ray[default]>=1.4.0->modin[ray]) (3.8.1)\n",
      "Requirement already satisfied: aiosignal in c:\\users\\sairam\\appdata\\local\\programs\\python\\python37\\lib\\site-packages (from ray[default]>=1.4.0->modin[ray]) (1.2.0)\n",
      "Collecting gpustat>=1.0.0b1\n",
      "  Using cached gpustat-1.0.0b1-py3-none-any.whl\n",
      "Requirement already satisfied: smart-open in c:\\users\\sairam\\appdata\\local\\programs\\python\\python37\\lib\\site-packages (from ray[default]>=1.4.0->modin[ray]) (5.2.1)\n",
      "Requirement already satisfied: py-spy>=0.2.0 in c:\\users\\sairam\\appdata\\local\\programs\\python\\python37\\lib\\site-packages (from ray[default]>=1.4.0->modin[ray]) (0.3.11)\n",
      "Collecting opencensus\n",
      "  Using cached opencensus-0.8.0-py2.py3-none-any.whl (128 kB)\n",
      "Requirement already satisfied: requests in c:\\users\\sairam\\appdata\\local\\programs\\python\\python37\\lib\\site-packages (from ray[default]>=1.4.0->modin[ray]) (2.25.1)\n",
      "Requirement already satisfied: frozenlist in c:\\users\\sairam\\appdata\\local\\programs\\python\\python37\\lib\\site-packages (from ray[default]>=1.4.0->modin[ray]) (1.3.0)\n",
      "Collecting aiohttp-cors\n",
      "  Using cached aiohttp_cors-0.7.0-py3-none-any.whl (27 kB)\n",
      "Collecting aioredis<2\n",
      "  Using cached aioredis-1.3.1-py3-none-any.whl (65 kB)\n",
      "Requirement already satisfied: pyparsing>=2.0.2 in c:\\users\\sairam\\appdata\\local\\programs\\python\\python37\\lib\\site-packages (from packaging->modin[ray]) (2.4.7)\n",
      "Requirement already satisfied: charset-normalizer<3.0,>=2.0 in c:\\users\\sairam\\appdata\\local\\programs\\python\\python37\\lib\\site-packages (from aiohttp>=3.7->ray[default]>=1.4.0->modin[ray]) (2.0.12)\n",
      "Requirement already satisfied: yarl<2.0,>=1.0 in c:\\users\\sairam\\appdata\\local\\programs\\python\\python37\\lib\\site-packages (from aiohttp>=3.7->ray[default]>=1.4.0->modin[ray]) (1.7.2)\n",
      "Requirement already satisfied: typing-extensions>=3.7.4 in c:\\users\\sairam\\appdata\\local\\programs\\python\\python37\\lib\\site-packages (from aiohttp>=3.7->ray[default]>=1.4.0->modin[ray]) (3.7.4.3)\n",
      "Requirement already satisfied: async-timeout<5.0,>=4.0.0a3 in c:\\users\\sairam\\appdata\\local\\programs\\python\\python37\\lib\\site-packages (from aiohttp>=3.7->ray[default]>=1.4.0->modin[ray]) (4.0.2)\n",
      "Requirement already satisfied: asynctest==0.13.0 in c:\\users\\sairam\\appdata\\local\\programs\\python\\python37\\lib\\site-packages (from aiohttp>=3.7->ray[default]>=1.4.0->modin[ray]) (0.13.0)\n",
      "Requirement already satisfied: multidict<7.0,>=4.5 in c:\\users\\sairam\\appdata\\local\\programs\\python\\python37\\lib\\site-packages (from aiohttp>=3.7->ray[default]>=1.4.0->modin[ray]) (6.0.2)\n",
      "Requirement already satisfied: hiredis in c:\\users\\sairam\\appdata\\local\\programs\\python\\python37\\lib\\site-packages (from aioredis<2->ray[default]>=1.4.0->modin[ray]) (2.0.0)\n",
      "Requirement already satisfied: blessed>=1.17.1 in c:\\users\\sairam\\appdata\\local\\programs\\python\\python37\\lib\\site-packages (from gpustat>=1.0.0b1->ray[default]>=1.4.0->modin[ray]) (1.19.1)\n",
      "Requirement already satisfied: six>=1.7 in c:\\users\\sairam\\appdata\\local\\programs\\python\\python37\\lib\\site-packages (from gpustat>=1.0.0b1->ray[default]>=1.4.0->modin[ray]) (1.15.0)\n",
      "Requirement already satisfied: nvidia-ml-py3>=7.352.0 in c:\\users\\sairam\\appdata\\local\\programs\\python\\python37\\lib\\site-packages (from gpustat>=1.0.0b1->ray[default]>=1.4.0->modin[ray]) (7.352.0)\n",
      "Requirement already satisfied: psutil in c:\\users\\sairam\\appdata\\local\\programs\\python\\python37\\lib\\site-packages (from gpustat>=1.0.0b1->ray[default]>=1.4.0->modin[ray]) (5.9.0)\n",
      "Requirement already satisfied: deprecated>=1.2.3 in c:\\users\\sairam\\appdata\\local\\programs\\python\\python37\\lib\\site-packages (from redis>=3.5.0->ray[default]>=1.4.0->modin[ray]) (1.2.13)\n",
      "Requirement already satisfied: importlib-metadata>=1.0 in c:\\users\\sairam\\appdata\\local\\programs\\python\\python37\\lib\\site-packages (from redis>=3.5.0->ray[default]>=1.4.0->modin[ray]) (4.0.1)\n",
      "Requirement already satisfied: colorama in c:\\users\\sairam\\appdata\\local\\programs\\python\\python37\\lib\\site-packages (from colorful->ray[default]>=1.4.0->modin[ray]) (0.4.4)\n",
      "Requirement already satisfied: setuptools in c:\\users\\sairam\\appdata\\local\\programs\\python\\python37\\lib\\site-packages (from jsonschema->ray[default]>=1.4.0->modin[ray]) (57.0.0)\n",
      "Requirement already satisfied: pyrsistent>=0.14.0 in c:\\users\\sairam\\appdata\\local\\programs\\python\\python37\\lib\\site-packages (from jsonschema->ray[default]>=1.4.0->modin[ray]) (0.17.3)\n",
      "Requirement already satisfied: google-api-core<3.0.0,>=1.0.0 in c:\\users\\sairam\\appdata\\local\\programs\\python\\python37\\lib\\site-packages (from opencensus->ray[default]>=1.4.0->modin[ray]) (2.7.1)\n",
      "Requirement already satisfied: opencensus-context==0.1.2 in c:\\users\\sairam\\appdata\\local\\programs\\python\\python37\\lib\\site-packages (from opencensus->ray[default]>=1.4.0->modin[ray]) (0.1.2)\n",
      "Requirement already satisfied: idna<3,>=2.5 in c:\\users\\sairam\\appdata\\local\\programs\\python\\python37\\lib\\site-packages (from requests->ray[default]>=1.4.0->modin[ray]) (2.10)\n",
      "Requirement already satisfied: chardet<5,>=3.0.2 in c:\\users\\sairam\\appdata\\local\\programs\\python\\python37\\lib\\site-packages (from requests->ray[default]>=1.4.0->modin[ray]) (4.0.0)\n",
      "Requirement already satisfied: urllib3<1.27,>=1.21.1 in c:\\users\\sairam\\appdata\\local\\programs\\python\\python37\\lib\\site-packages (from requests->ray[default]>=1.4.0->modin[ray]) (1.26.4)\n",
      "Requirement already satisfied: certifi>=2017.4.17 in c:\\users\\sairam\\appdata\\local\\programs\\python\\python37\\lib\\site-packages (from requests->ray[default]>=1.4.0->modin[ray]) (2020.12.5)\n",
      "Requirement already satisfied: wcwidth>=0.1.4 in c:\\users\\sairam\\appdata\\local\\programs\\python\\python37\\lib\\site-packages (from blessed>=1.17.1->gpustat>=1.0.0b1->ray[default]>=1.4.0->modin[ray]) (0.2.5)\n",
      "Requirement already satisfied: jinxed>=1.1.0 in c:\\users\\sairam\\appdata\\local\\programs\\python\\python37\\lib\\site-packages (from blessed>=1.17.1->gpustat>=1.0.0b1->ray[default]>=1.4.0->modin[ray]) (1.1.0)\n",
      "Requirement already satisfied: wrapt<2,>=1.10 in c:\\users\\sairam\\appdata\\local\\programs\\python\\python37\\lib\\site-packages (from deprecated>=1.2.3->redis>=3.5.0->ray[default]>=1.4.0->modin[ray]) (1.12.1)\n",
      "Requirement already satisfied: google-auth<3.0dev,>=1.25.0 in c:\\users\\sairam\\appdata\\local\\programs\\python\\python37\\lib\\site-packages (from google-api-core<3.0.0,>=1.0.0->opencensus->ray[default]>=1.4.0->modin[ray]) (1.30.1)\n",
      "Requirement already satisfied: googleapis-common-protos<2.0dev,>=1.52.0 in c:\\users\\sairam\\appdata\\local\\programs\\python\\python37\\lib\\site-packages (from google-api-core<3.0.0,>=1.0.0->opencensus->ray[default]>=1.4.0->modin[ray]) (1.55.0)\n",
      "Requirement already satisfied: zipp>=0.5 in c:\\users\\sairam\\appdata\\local\\programs\\python\\python37\\lib\\site-packages (from importlib-metadata>=1.0->redis>=3.5.0->ray[default]>=1.4.0->modin[ray]) (3.4.1)\n",
      "Requirement already satisfied: pyasn1-modules>=0.2.1 in c:\\users\\sairam\\appdata\\local\\programs\\python\\python37\\lib\\site-packages (from google-auth<3.0dev,>=1.25.0->google-api-core<3.0.0,>=1.0.0->opencensus->ray[default]>=1.4.0->modin[ray]) (0.2.8)\n",
      "Requirement already satisfied: cachetools<5.0,>=2.0.0 in c:\\users\\sairam\\appdata\\local\\programs\\python\\python37\\lib\\site-packages (from google-auth<3.0dev,>=1.25.0->google-api-core<3.0.0,>=1.0.0->opencensus->ray[default]>=1.4.0->modin[ray]) (4.2.2)\n",
      "Requirement already satisfied: rsa<5,>=3.1.4 in c:\\users\\sairam\\appdata\\local\\programs\\python\\python37\\lib\\site-packages (from google-auth<3.0dev,>=1.25.0->google-api-core<3.0.0,>=1.0.0->opencensus->ray[default]>=1.4.0->modin[ray]) (4.7.2)\n",
      "Requirement already satisfied: ansicon in c:\\users\\sairam\\appdata\\local\\programs\\python\\python37\\lib\\site-packages (from jinxed>=1.1.0->blessed>=1.17.1->gpustat>=1.0.0b1->ray[default]>=1.4.0->modin[ray]) (1.89.0)\n",
      "Requirement already satisfied: pyasn1<0.5.0,>=0.4.6 in c:\\users\\sairam\\appdata\\local\\programs\\python\\python37\\lib\\site-packages (from pyasn1-modules>=0.2.1->google-auth<3.0dev,>=1.25.0->google-api-core<3.0.0,>=1.0.0->opencensus->ray[default]>=1.4.0->modin[ray]) (0.4.8)\n",
      "Installing collected packages: opencensus, gpustat, fsspec, colorful, aioredis, aiohttp-cors, pyarrow, modin\n",
      "Successfully installed aiohttp-cors-0.7.0 aioredis-1.3.1 colorful-0.5.4 fsspec-2022.2.0 gpustat-1.0.0b1 modin-0.12.1 opencensus-0.8.0 pyarrow-7.0.0\n"
     ]
    }
   ],
   "source": [
    "!pip install modin[ray]"
   ]
  },
  {
   "cell_type": "code",
   "execution_count": 4,
   "id": "a2f5307f",
   "metadata": {},
   "outputs": [
    {
     "ename": "ModuleNotFoundError",
     "evalue": "No module named 'modin'",
     "output_type": "error",
     "traceback": [
      "\u001b[1;31m---------------------------------------------------------------------------\u001b[0m",
      "\u001b[1;31mModuleNotFoundError\u001b[0m                       Traceback (most recent call last)",
      "\u001b[1;32m<ipython-input-4-7e7b44bd7fd7>\u001b[0m in \u001b[0;36m<module>\u001b[1;34m\u001b[0m\n\u001b[1;32m----> 1\u001b[1;33m \u001b[1;32mimport\u001b[0m \u001b[0mmodin\u001b[0m\u001b[1;33m.\u001b[0m\u001b[0mpandas\u001b[0m \u001b[1;32mas\u001b[0m \u001b[0mpd\u001b[0m\u001b[1;33m\u001b[0m\u001b[1;33m\u001b[0m\u001b[0m\n\u001b[0m",
      "\u001b[1;31mModuleNotFoundError\u001b[0m: No module named 'modin'"
     ]
    }
   ],
   "source": [
    "import modin.pandas as pd"
   ]
  },
  {
   "cell_type": "code",
   "execution_count": null,
   "id": "e1c6d9e3",
   "metadata": {},
   "outputs": [],
   "source": []
  },
  {
   "cell_type": "code",
   "execution_count": null,
   "id": "43fb5f1f",
   "metadata": {},
   "outputs": [],
   "source": []
  },
  {
   "cell_type": "code",
   "execution_count": null,
   "id": "4f21fac0",
   "metadata": {},
   "outputs": [],
   "source": []
  },
  {
   "cell_type": "code",
   "execution_count": null,
   "id": "874a6c61",
   "metadata": {},
   "outputs": [],
   "source": []
  }
 ],
 "metadata": {
  "kernelspec": {
   "display_name": "Python 3",
   "language": "python",
   "name": "python3"
  },
  "language_info": {
   "codemirror_mode": {
    "name": "ipython",
    "version": 3
   },
   "file_extension": ".py",
   "mimetype": "text/x-python",
   "name": "python",
   "nbconvert_exporter": "python",
   "pygments_lexer": "ipython3",
   "version": "3.7.3"
  }
 },
 "nbformat": 4,
 "nbformat_minor": 5
}
